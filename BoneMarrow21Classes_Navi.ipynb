{
  "nbformat": 4,
  "nbformat_minor": 0,
  "metadata": {
    "colab": {
      "provenance": [],
      "gpuType": "T4"
    },
    "kernelspec": {
      "name": "python3",
      "display_name": "Python 3"
    },
    "language_info": {
      "name": "python"
    },
    "accelerator": "GPU"
  },
  "cells": [
    {
      "cell_type": "code",
      "source": [
        "!gdown '1pmDoFqoraypdojpWoEHpZt-9NJjjDKg3' -O bone_marrow_cell_dataset.zip"
      ],
      "metadata": {
        "colab": {
          "base_uri": "https://localhost:8080/"
        },
        "id": "ZZgb-ONnPhXP",
        "outputId": "1dbc7f56-2c17-446a-91f9-b0da13122232"
      },
      "execution_count": null,
      "outputs": [
        {
          "output_type": "stream",
          "name": "stdout",
          "text": [
            "Downloading...\n",
            "From (original): https://drive.google.com/uc?id=1pmDoFqoraypdojpWoEHpZt-9NJjjDKg3\n",
            "From (redirected): https://drive.google.com/uc?id=1pmDoFqoraypdojpWoEHpZt-9NJjjDKg3&confirm=t&uuid=455eeadb-32a9-4557-9b20-7e962c8e193e\n",
            "To: /content/bone_marrow_cell_dataset.zip\n",
            "100% 6.93G/6.93G [01:22<00:00, 84.5MB/s]\n"
          ]
        }
      ]
    },
    {
      "cell_type": "code",
      "source": [
        "!unzip bone_marrow_cell_dataset.zip -d bone_marrow_cell_dataset &> /dev/null"
      ],
      "metadata": {
        "id": "hUU02mABfE78"
      },
      "execution_count": null,
      "outputs": []
    },
    {
      "cell_type": "code",
      "source": [
        "import os\n",
        "import glob\n",
        "import cv2\n",
        "import numpy as np\n",
        "import pandas as pd\n",
        "import matplotlib.pyplot as plt\n",
        "import tensorflow as tf\n",
        "from tensorflow.keras.preprocessing.image import ImageDataGenerator\n",
        "from tensorflow.keras.callbacks import EarlyStopping, ReduceLROnPlateau"
      ],
      "metadata": {
        "id": "eEebboDqPiQh"
      },
      "execution_count": null,
      "outputs": []
    },
    {
      "cell_type": "code",
      "source": [
        "# @title Defining Segmentation\n",
        "def otsu_threshold(image):\n",
        "    _, otsu_thresh = cv2.threshold(image, 0, 255, cv2.THRESH_BINARY_INV + cv2.THRESH_OTSU)\n",
        "    return otsu_thresh\n",
        "\n",
        "def refine_segmentation(thresholded_image):\n",
        "    kernel = np.ones((2, 2), np.uint8)\n",
        "    opening = cv2.morphologyEx(thresholded_image, cv2.MORPH_OPEN, kernel)\n",
        "    closing = cv2.morphologyEx(opening, cv2.MORPH_CLOSE, kernel)\n",
        "    return closing\n",
        "\n",
        "def apply_watershed(original_image, binary_image):\n",
        "    kernel = np.ones((3, 3), np.uint8)\n",
        "    opening = cv2.morphologyEx(binary_image, cv2.MORPH_OPEN, kernel, iterations=2)\n",
        "    sure_bg = cv2.dilate(opening, kernel, iterations=3)\n",
        "    dist_transform = cv2.distanceTransform(opening, cv2.DIST_L2, 5)\n",
        "    _, sure_fg = cv2.threshold(dist_transform, 0.7 * dist_transform.max(), 255, 0)\n",
        "    sure_fg = np.uint8(sure_fg)\n",
        "    unknown = cv2.subtract(sure_bg, sure_fg)\n",
        "    _, markers = cv2.connectedComponents(sure_fg)\n",
        "    markers = markers + 1\n",
        "    markers[unknown == 255] = 0\n",
        "    markers = cv2.watershed(original_image, markers)\n",
        "    original_image[markers == -1] = [0, 0, 255]\n",
        "    return markers\n",
        "\n",
        "def extract_individual_nuclei(markers, original_image):\n",
        "    unique_markers = np.unique(markers)\n",
        "    nuclei_images = []\n",
        "    for marker in unique_markers:\n",
        "        if marker <= 1:\n",
        "            continue\n",
        "        mask = np.zeros_like(markers, dtype=np.uint8)\n",
        "        mask[markers == marker] = 255\n",
        "        nucleus_image = cv2.bitwise_and(original_image, original_image, mask=mask)\n",
        "        resized_nucleus_image = cv2.resize(nucleus_image, (64, 64))\n",
        "        nuclei_images.append(resized_nucleus_image)\n",
        "    return nuclei_images\n"
      ],
      "metadata": {
        "id": "1fpqziKPPo9B",
        "cellView": "form"
      },
      "execution_count": null,
      "outputs": []
    },
    {
      "cell_type": "code",
      "source": [
        "# @title Creating DF\n",
        "image_data = 'bone_marrow_cell_dataset'\n",
        "\n",
        "files = glob.glob(os.path.join(image_data, '**', '*.jpg'), recursive=True)\n",
        "classes = [os.path.normpath(file).split(os.sep)[1] for file in files]\n",
        "\n",
        "df = pd.DataFrame({\"filename\": files, \"label\": classes})\n",
        "print(f\"Number of images: {len(df)}\")\n"
      ],
      "metadata": {
        "colab": {
          "base_uri": "https://localhost:8080/"
        },
        "id": "WDckNpOlS67F",
        "outputId": "d64c0302-f072-4719-9989-d49581de5095",
        "collapsed": true
      },
      "execution_count": null,
      "outputs": [
        {
          "output_type": "stream",
          "name": "stdout",
          "text": [
            "Number of images: 171374\n"
          ]
        }
      ]
    },
    {
      "cell_type": "code",
      "source": [
        "# @title Segmenting Images\n",
        "#segmented_dir = \"segmented_nuclei\"\n",
        "#os.makedirs(segmented_dir, exist_ok=True)\n",
        "#segmented_filepaths = []\n",
        "#segmented_labels = []\n",
        "\n",
        "#for idx, row in df.iterrows():\n",
        "#    original_image = cv2.imread(row['filename'])\n",
        "#    if original_image is not None:\n",
        "#        grayscale_image = cv2.cvtColor(original_image, cv2.COLOR_BGR2GRAY)\n",
        "#        otsu_image = otsu_threshold(grayscale_image)\n",
        "#        refined_image = refine_segmentation(otsu_image)\n",
        "#        markers = apply_watershed(original_image, refined_image)\n",
        "#        nuclei_images = extract_individual_nuclei(markers, original_image)\n",
        "\n",
        "#        for j, nucleus_image in enumerate(nuclei_images):\n",
        "#            filename = f\"{os.path.splitext(os.path.basename(row['filename']))[0]}_seg_{j}.jpg\"\n",
        "#            filepath = os.path.join(segmented_dir, filename)\n",
        "#            cv2.imwrite(filepath, nucleus_image)\n",
        "#            segmented_filepaths.append(filepath)\n",
        "#            segmented_labels.append(row['label'])\n",
        "\n",
        "#segmented_df = pd.DataFrame({\"filename\": segmented_filepaths, \"label\": segmented_labels})\n"
      ],
      "metadata": {
        "id": "DXMvvtklStqN",
        "cellView": "form"
      },
      "execution_count": null,
      "outputs": []
    },
    {
      "cell_type": "code",
      "source": [
        "# @title Code for Exporting Zip\n",
        "#from google.colab import drive\n",
        "#drive.mount('/content/drive')\n",
        "\n",
        "#!zip -r /content/segmented_nuclei.zip /content/segmented_nuclei > /dev/null 2>&1\n",
        "\n",
        "#!mv /content/segmented_nuclei.zip /content/drive/MyDrive/\n",
        "\n",
        "#import shutil\n",
        "#shutil.rmtree('segmented_nuclei', ignore_errors=True)"
      ],
      "metadata": {
        "colab": {
          "base_uri": "https://localhost:8080/"
        },
        "cellView": "form",
        "id": "9U6s-jIvb00D",
        "outputId": "2bab4606-4e80-4d59-cf58-f9b0250963da"
      },
      "execution_count": null,
      "outputs": [
        {
          "output_type": "stream",
          "name": "stdout",
          "text": [
            "Mounted at /content/drive\n"
          ]
        }
      ]
    },
    {
      "cell_type": "code",
      "source": [
        "!gdown '1ktGD3jORvnpnEu1mOAwTy9NL54VoGKA7' -O segmented_nuclei.zip"
      ],
      "metadata": {
        "colab": {
          "base_uri": "https://localhost:8080/"
        },
        "id": "XqWpYADzeMuB",
        "outputId": "15339cb3-fbb6-4667-ca4e-554e2f67f90b"
      },
      "execution_count": null,
      "outputs": [
        {
          "output_type": "stream",
          "name": "stdout",
          "text": [
            "Downloading...\n",
            "From (original): https://drive.google.com/uc?id=1ktGD3jORvnpnEu1mOAwTy9NL54VoGKA7\n",
            "From (redirected): https://drive.google.com/uc?id=1ktGD3jORvnpnEu1mOAwTy9NL54VoGKA7&confirm=t&uuid=b0d880e1-ffda-4a78-a751-48f97db2726f\n",
            "To: /content/segmented_nuclei.zip\n",
            "100% 441M/441M [00:04<00:00, 100MB/s]\n"
          ]
        }
      ]
    },
    {
      "cell_type": "code",
      "source": [
        "!unzip segmented_nuclei.zip -d segmented_nuclei > /dev/null 2> /dev/null"
      ],
      "metadata": {
        "id": "c7uH9CePeXbB"
      },
      "execution_count": null,
      "outputs": []
    },
    {
      "cell_type": "code",
      "source": [
        "import os\n",
        "import pandas as pd\n",
        "\n",
        "segmented_dir = \"segmented_nuclei/content/segmented_nuclei\"\n",
        "segmented_filepaths = []\n",
        "segmented_labels = []\n",
        "\n",
        "# Recursively find all .jpg files in the segmented directory\n",
        "for root, _, files in os.walk(segmented_dir):\n",
        "    for filename in files:\n",
        "        if filename.endswith(\".jpg\"):\n",
        "            filepath = os.path.join(root, filename)\n",
        "            label = filename.split(\"_\")[0]  # Extract the label from the filename\n",
        "            segmented_filepaths.append(filepath)\n",
        "            segmented_labels.append(label)\n",
        "\n",
        "# Recreate the DataFrame with segmented file paths and labels\n",
        "segmented_df = pd.DataFrame({\"filename\": segmented_filepaths, \"label\": segmented_labels})"
      ],
      "metadata": {
        "id": "d8-qoZT0fXrj"
      },
      "execution_count": null,
      "outputs": []
    },
    {
      "cell_type": "code",
      "source": [
        "segmented_df"
      ],
      "metadata": {
        "colab": {
          "base_uri": "https://localhost:8080/",
          "height": 424
        },
        "id": "xri6_qcU6rYW",
        "outputId": "05c4ccea-5fe9-449e-bff5-04af552258df"
      },
      "execution_count": null,
      "outputs": [
        {
          "output_type": "execute_result",
          "data": {
            "text/plain": [
              "                                                 filename label\n",
              "0       segmented_nuclei/content/segmented_nuclei/EOS_...   EOS\n",
              "1       segmented_nuclei/content/segmented_nuclei/NGB_...   NGB\n",
              "2       segmented_nuclei/content/segmented_nuclei/NGS_...   NGS\n",
              "3       segmented_nuclei/content/segmented_nuclei/NGS_...   NGS\n",
              "4       segmented_nuclei/content/segmented_nuclei/EBO_...   EBO\n",
              "...                                                   ...   ...\n",
              "331954  segmented_nuclei/content/segmented_nuclei/MON_...   MON\n",
              "331955  segmented_nuclei/content/segmented_nuclei/LYT_...   LYT\n",
              "331956  segmented_nuclei/content/segmented_nuclei/NIF_...   NIF\n",
              "331957  segmented_nuclei/content/segmented_nuclei/NGS_...   NGS\n",
              "331958  segmented_nuclei/content/segmented_nuclei/MON_...   MON\n",
              "\n",
              "[331959 rows x 2 columns]"
            ],
            "text/html": [
              "\n",
              "  <div id=\"df-39e8e88f-566c-455b-a6e0-be369d2f89b8\" class=\"colab-df-container\">\n",
              "    <div>\n",
              "<style scoped>\n",
              "    .dataframe tbody tr th:only-of-type {\n",
              "        vertical-align: middle;\n",
              "    }\n",
              "\n",
              "    .dataframe tbody tr th {\n",
              "        vertical-align: top;\n",
              "    }\n",
              "\n",
              "    .dataframe thead th {\n",
              "        text-align: right;\n",
              "    }\n",
              "</style>\n",
              "<table border=\"1\" class=\"dataframe\">\n",
              "  <thead>\n",
              "    <tr style=\"text-align: right;\">\n",
              "      <th></th>\n",
              "      <th>filename</th>\n",
              "      <th>label</th>\n",
              "    </tr>\n",
              "  </thead>\n",
              "  <tbody>\n",
              "    <tr>\n",
              "      <th>0</th>\n",
              "      <td>segmented_nuclei/content/segmented_nuclei/EOS_...</td>\n",
              "      <td>EOS</td>\n",
              "    </tr>\n",
              "    <tr>\n",
              "      <th>1</th>\n",
              "      <td>segmented_nuclei/content/segmented_nuclei/NGB_...</td>\n",
              "      <td>NGB</td>\n",
              "    </tr>\n",
              "    <tr>\n",
              "      <th>2</th>\n",
              "      <td>segmented_nuclei/content/segmented_nuclei/NGS_...</td>\n",
              "      <td>NGS</td>\n",
              "    </tr>\n",
              "    <tr>\n",
              "      <th>3</th>\n",
              "      <td>segmented_nuclei/content/segmented_nuclei/NGS_...</td>\n",
              "      <td>NGS</td>\n",
              "    </tr>\n",
              "    <tr>\n",
              "      <th>4</th>\n",
              "      <td>segmented_nuclei/content/segmented_nuclei/EBO_...</td>\n",
              "      <td>EBO</td>\n",
              "    </tr>\n",
              "    <tr>\n",
              "      <th>...</th>\n",
              "      <td>...</td>\n",
              "      <td>...</td>\n",
              "    </tr>\n",
              "    <tr>\n",
              "      <th>331954</th>\n",
              "      <td>segmented_nuclei/content/segmented_nuclei/MON_...</td>\n",
              "      <td>MON</td>\n",
              "    </tr>\n",
              "    <tr>\n",
              "      <th>331955</th>\n",
              "      <td>segmented_nuclei/content/segmented_nuclei/LYT_...</td>\n",
              "      <td>LYT</td>\n",
              "    </tr>\n",
              "    <tr>\n",
              "      <th>331956</th>\n",
              "      <td>segmented_nuclei/content/segmented_nuclei/NIF_...</td>\n",
              "      <td>NIF</td>\n",
              "    </tr>\n",
              "    <tr>\n",
              "      <th>331957</th>\n",
              "      <td>segmented_nuclei/content/segmented_nuclei/NGS_...</td>\n",
              "      <td>NGS</td>\n",
              "    </tr>\n",
              "    <tr>\n",
              "      <th>331958</th>\n",
              "      <td>segmented_nuclei/content/segmented_nuclei/MON_...</td>\n",
              "      <td>MON</td>\n",
              "    </tr>\n",
              "  </tbody>\n",
              "</table>\n",
              "<p>331959 rows × 2 columns</p>\n",
              "</div>\n",
              "    <div class=\"colab-df-buttons\">\n",
              "\n",
              "  <div class=\"colab-df-container\">\n",
              "    <button class=\"colab-df-convert\" onclick=\"convertToInteractive('df-39e8e88f-566c-455b-a6e0-be369d2f89b8')\"\n",
              "            title=\"Convert this dataframe to an interactive table.\"\n",
              "            style=\"display:none;\">\n",
              "\n",
              "  <svg xmlns=\"http://www.w3.org/2000/svg\" height=\"24px\" viewBox=\"0 -960 960 960\">\n",
              "    <path d=\"M120-120v-720h720v720H120Zm60-500h600v-160H180v160Zm220 220h160v-160H400v160Zm0 220h160v-160H400v160ZM180-400h160v-160H180v160Zm440 0h160v-160H620v160ZM180-180h160v-160H180v160Zm440 0h160v-160H620v160Z\"/>\n",
              "  </svg>\n",
              "    </button>\n",
              "\n",
              "  <style>\n",
              "    .colab-df-container {\n",
              "      display:flex;\n",
              "      gap: 12px;\n",
              "    }\n",
              "\n",
              "    .colab-df-convert {\n",
              "      background-color: #E8F0FE;\n",
              "      border: none;\n",
              "      border-radius: 50%;\n",
              "      cursor: pointer;\n",
              "      display: none;\n",
              "      fill: #1967D2;\n",
              "      height: 32px;\n",
              "      padding: 0 0 0 0;\n",
              "      width: 32px;\n",
              "    }\n",
              "\n",
              "    .colab-df-convert:hover {\n",
              "      background-color: #E2EBFA;\n",
              "      box-shadow: 0px 1px 2px rgba(60, 64, 67, 0.3), 0px 1px 3px 1px rgba(60, 64, 67, 0.15);\n",
              "      fill: #174EA6;\n",
              "    }\n",
              "\n",
              "    .colab-df-buttons div {\n",
              "      margin-bottom: 4px;\n",
              "    }\n",
              "\n",
              "    [theme=dark] .colab-df-convert {\n",
              "      background-color: #3B4455;\n",
              "      fill: #D2E3FC;\n",
              "    }\n",
              "\n",
              "    [theme=dark] .colab-df-convert:hover {\n",
              "      background-color: #434B5C;\n",
              "      box-shadow: 0px 1px 3px 1px rgba(0, 0, 0, 0.15);\n",
              "      filter: drop-shadow(0px 1px 2px rgba(0, 0, 0, 0.3));\n",
              "      fill: #FFFFFF;\n",
              "    }\n",
              "  </style>\n",
              "\n",
              "    <script>\n",
              "      const buttonEl =\n",
              "        document.querySelector('#df-39e8e88f-566c-455b-a6e0-be369d2f89b8 button.colab-df-convert');\n",
              "      buttonEl.style.display =\n",
              "        google.colab.kernel.accessAllowed ? 'block' : 'none';\n",
              "\n",
              "      async function convertToInteractive(key) {\n",
              "        const element = document.querySelector('#df-39e8e88f-566c-455b-a6e0-be369d2f89b8');\n",
              "        const dataTable =\n",
              "          await google.colab.kernel.invokeFunction('convertToInteractive',\n",
              "                                                    [key], {});\n",
              "        if (!dataTable) return;\n",
              "\n",
              "        const docLinkHtml = 'Like what you see? Visit the ' +\n",
              "          '<a target=\"_blank\" href=https://colab.research.google.com/notebooks/data_table.ipynb>data table notebook</a>'\n",
              "          + ' to learn more about interactive tables.';\n",
              "        element.innerHTML = '';\n",
              "        dataTable['output_type'] = 'display_data';\n",
              "        await google.colab.output.renderOutput(dataTable, element);\n",
              "        const docLink = document.createElement('div');\n",
              "        docLink.innerHTML = docLinkHtml;\n",
              "        element.appendChild(docLink);\n",
              "      }\n",
              "    </script>\n",
              "  </div>\n",
              "\n",
              "\n",
              "<div id=\"df-24a1db79-847a-4d67-bc9d-58f55beedfc8\">\n",
              "  <button class=\"colab-df-quickchart\" onclick=\"quickchart('df-24a1db79-847a-4d67-bc9d-58f55beedfc8')\"\n",
              "            title=\"Suggest charts\"\n",
              "            style=\"display:none;\">\n",
              "\n",
              "<svg xmlns=\"http://www.w3.org/2000/svg\" height=\"24px\"viewBox=\"0 0 24 24\"\n",
              "     width=\"24px\">\n",
              "    <g>\n",
              "        <path d=\"M19 3H5c-1.1 0-2 .9-2 2v14c0 1.1.9 2 2 2h14c1.1 0 2-.9 2-2V5c0-1.1-.9-2-2-2zM9 17H7v-7h2v7zm4 0h-2V7h2v10zm4 0h-2v-4h2v4z\"/>\n",
              "    </g>\n",
              "</svg>\n",
              "  </button>\n",
              "\n",
              "<style>\n",
              "  .colab-df-quickchart {\n",
              "      --bg-color: #E8F0FE;\n",
              "      --fill-color: #1967D2;\n",
              "      --hover-bg-color: #E2EBFA;\n",
              "      --hover-fill-color: #174EA6;\n",
              "      --disabled-fill-color: #AAA;\n",
              "      --disabled-bg-color: #DDD;\n",
              "  }\n",
              "\n",
              "  [theme=dark] .colab-df-quickchart {\n",
              "      --bg-color: #3B4455;\n",
              "      --fill-color: #D2E3FC;\n",
              "      --hover-bg-color: #434B5C;\n",
              "      --hover-fill-color: #FFFFFF;\n",
              "      --disabled-bg-color: #3B4455;\n",
              "      --disabled-fill-color: #666;\n",
              "  }\n",
              "\n",
              "  .colab-df-quickchart {\n",
              "    background-color: var(--bg-color);\n",
              "    border: none;\n",
              "    border-radius: 50%;\n",
              "    cursor: pointer;\n",
              "    display: none;\n",
              "    fill: var(--fill-color);\n",
              "    height: 32px;\n",
              "    padding: 0;\n",
              "    width: 32px;\n",
              "  }\n",
              "\n",
              "  .colab-df-quickchart:hover {\n",
              "    background-color: var(--hover-bg-color);\n",
              "    box-shadow: 0 1px 2px rgba(60, 64, 67, 0.3), 0 1px 3px 1px rgba(60, 64, 67, 0.15);\n",
              "    fill: var(--button-hover-fill-color);\n",
              "  }\n",
              "\n",
              "  .colab-df-quickchart-complete:disabled,\n",
              "  .colab-df-quickchart-complete:disabled:hover {\n",
              "    background-color: var(--disabled-bg-color);\n",
              "    fill: var(--disabled-fill-color);\n",
              "    box-shadow: none;\n",
              "  }\n",
              "\n",
              "  .colab-df-spinner {\n",
              "    border: 2px solid var(--fill-color);\n",
              "    border-color: transparent;\n",
              "    border-bottom-color: var(--fill-color);\n",
              "    animation:\n",
              "      spin 1s steps(1) infinite;\n",
              "  }\n",
              "\n",
              "  @keyframes spin {\n",
              "    0% {\n",
              "      border-color: transparent;\n",
              "      border-bottom-color: var(--fill-color);\n",
              "      border-left-color: var(--fill-color);\n",
              "    }\n",
              "    20% {\n",
              "      border-color: transparent;\n",
              "      border-left-color: var(--fill-color);\n",
              "      border-top-color: var(--fill-color);\n",
              "    }\n",
              "    30% {\n",
              "      border-color: transparent;\n",
              "      border-left-color: var(--fill-color);\n",
              "      border-top-color: var(--fill-color);\n",
              "      border-right-color: var(--fill-color);\n",
              "    }\n",
              "    40% {\n",
              "      border-color: transparent;\n",
              "      border-right-color: var(--fill-color);\n",
              "      border-top-color: var(--fill-color);\n",
              "    }\n",
              "    60% {\n",
              "      border-color: transparent;\n",
              "      border-right-color: var(--fill-color);\n",
              "    }\n",
              "    80% {\n",
              "      border-color: transparent;\n",
              "      border-right-color: var(--fill-color);\n",
              "      border-bottom-color: var(--fill-color);\n",
              "    }\n",
              "    90% {\n",
              "      border-color: transparent;\n",
              "      border-bottom-color: var(--fill-color);\n",
              "    }\n",
              "  }\n",
              "</style>\n",
              "\n",
              "  <script>\n",
              "    async function quickchart(key) {\n",
              "      const quickchartButtonEl =\n",
              "        document.querySelector('#' + key + ' button');\n",
              "      quickchartButtonEl.disabled = true;  // To prevent multiple clicks.\n",
              "      quickchartButtonEl.classList.add('colab-df-spinner');\n",
              "      try {\n",
              "        const charts = await google.colab.kernel.invokeFunction(\n",
              "            'suggestCharts', [key], {});\n",
              "      } catch (error) {\n",
              "        console.error('Error during call to suggestCharts:', error);\n",
              "      }\n",
              "      quickchartButtonEl.classList.remove('colab-df-spinner');\n",
              "      quickchartButtonEl.classList.add('colab-df-quickchart-complete');\n",
              "    }\n",
              "    (() => {\n",
              "      let quickchartButtonEl =\n",
              "        document.querySelector('#df-24a1db79-847a-4d67-bc9d-58f55beedfc8 button');\n",
              "      quickchartButtonEl.style.display =\n",
              "        google.colab.kernel.accessAllowed ? 'block' : 'none';\n",
              "    })();\n",
              "  </script>\n",
              "</div>\n",
              "\n",
              "  <div id=\"id_fb3b93ce-2bd3-44e0-be4c-5361e920323d\">\n",
              "    <style>\n",
              "      .colab-df-generate {\n",
              "        background-color: #E8F0FE;\n",
              "        border: none;\n",
              "        border-radius: 50%;\n",
              "        cursor: pointer;\n",
              "        display: none;\n",
              "        fill: #1967D2;\n",
              "        height: 32px;\n",
              "        padding: 0 0 0 0;\n",
              "        width: 32px;\n",
              "      }\n",
              "\n",
              "      .colab-df-generate:hover {\n",
              "        background-color: #E2EBFA;\n",
              "        box-shadow: 0px 1px 2px rgba(60, 64, 67, 0.3), 0px 1px 3px 1px rgba(60, 64, 67, 0.15);\n",
              "        fill: #174EA6;\n",
              "      }\n",
              "\n",
              "      [theme=dark] .colab-df-generate {\n",
              "        background-color: #3B4455;\n",
              "        fill: #D2E3FC;\n",
              "      }\n",
              "\n",
              "      [theme=dark] .colab-df-generate:hover {\n",
              "        background-color: #434B5C;\n",
              "        box-shadow: 0px 1px 3px 1px rgba(0, 0, 0, 0.15);\n",
              "        filter: drop-shadow(0px 1px 2px rgba(0, 0, 0, 0.3));\n",
              "        fill: #FFFFFF;\n",
              "      }\n",
              "    </style>\n",
              "    <button class=\"colab-df-generate\" onclick=\"generateWithVariable('segmented_df')\"\n",
              "            title=\"Generate code using this dataframe.\"\n",
              "            style=\"display:none;\">\n",
              "\n",
              "  <svg xmlns=\"http://www.w3.org/2000/svg\" height=\"24px\"viewBox=\"0 0 24 24\"\n",
              "       width=\"24px\">\n",
              "    <path d=\"M7,19H8.4L18.45,9,17,7.55,7,17.6ZM5,21V16.75L18.45,3.32a2,2,0,0,1,2.83,0l1.4,1.43a1.91,1.91,0,0,1,.58,1.4,1.91,1.91,0,0,1-.58,1.4L9.25,21ZM18.45,9,17,7.55Zm-12,3A5.31,5.31,0,0,0,4.9,8.1,5.31,5.31,0,0,0,1,6.5,5.31,5.31,0,0,0,4.9,4.9,5.31,5.31,0,0,0,6.5,1,5.31,5.31,0,0,0,8.1,4.9,5.31,5.31,0,0,0,12,6.5,5.46,5.46,0,0,0,6.5,12Z\"/>\n",
              "  </svg>\n",
              "    </button>\n",
              "    <script>\n",
              "      (() => {\n",
              "      const buttonEl =\n",
              "        document.querySelector('#id_fb3b93ce-2bd3-44e0-be4c-5361e920323d button.colab-df-generate');\n",
              "      buttonEl.style.display =\n",
              "        google.colab.kernel.accessAllowed ? 'block' : 'none';\n",
              "\n",
              "      buttonEl.onclick = () => {\n",
              "        google.colab.notebook.generateWithVariable('segmented_df');\n",
              "      }\n",
              "      })();\n",
              "    </script>\n",
              "  </div>\n",
              "\n",
              "    </div>\n",
              "  </div>\n"
            ],
            "application/vnd.google.colaboratory.intrinsic+json": {
              "type": "dataframe",
              "variable_name": "segmented_df"
            }
          },
          "metadata": {},
          "execution_count": 9
        }
      ]
    },
    {
      "cell_type": "code",
      "source": [
        "counts = segmented_df['label'].value_counts()\n",
        "plt.figure(figsize=(10, 6))\n",
        "plt.bar(counts.index, np.log10(counts.values))\n",
        "plt.xlabel('Classes')\n",
        "plt.ylabel('Log Count')\n",
        "plt.title('Class Distribution (Log Scale)')\n",
        "plt.show()"
      ],
      "metadata": {
        "colab": {
          "base_uri": "https://localhost:8080/",
          "height": 564
        },
        "id": "snuQ00P6cULZ",
        "outputId": "8545f332-3b55-4bda-d1ec-709af99aec56"
      },
      "execution_count": null,
      "outputs": [
        {
          "output_type": "display_data",
          "data": {
            "text/plain": [
              "<Figure size 1000x600 with 1 Axes>"
            ],
            "image/png": "[encoded data removed]"
          },
          "metadata": {}
        }
      ]
    },
    {
      "cell_type": "code",
      "source": [
        "exclude_list = [\"ART\", \"NIF\"]\n",
        "def exclude_label(label):\n",
        "  if label in exclude_list:\n",
        "    return False\n",
        "  return True\n",
        "reduced_df = segmented_df[segmented_df['label'].apply(exclude_label)]"
      ],
      "metadata": {
        "id": "hkevKWBh8ilH"
      },
      "execution_count": null,
      "outputs": []
    },
    {
      "cell_type": "code",
      "source": [
        "from sklearn.model_selection import train_test_split\n",
        "data_train, data_test = train_test_split(reduced_df, test_size=0.2, random_state=42, stratify=reduced_df[\"label\"])"
      ],
      "metadata": {
        "id": "fobF1Oc3prxS"
      },
      "execution_count": null,
      "outputs": []
    },
    {
      "cell_type": "code",
      "source": [
        "image_size = (64, 64)\n",
        "\n",
        "train_datagen = ImageDataGenerator(\n",
        "    #rescale=1.0/255,\n",
        "    horizontal_flip=True,\n",
        "    vertical_flip=True,\n",
        "    rotation_range=45,\n",
        "    zoom_range=0.2\n",
        ")\n",
        "\n",
        "test_datagen = ImageDataGenerator(\n",
        "    #rescale=1.0/255\n",
        "    )\n",
        "\n",
        "train = train_datagen.flow_from_dataframe(\n",
        "    data_train,\n",
        "    x_col=\"filename\",\n",
        "    y_col=\"label\",\n",
        "    shuffle = False,\n",
        "    target_size=image_size,\n",
        "    batch_size=256,\n",
        "    class_mode=\"categorical\"\n",
        ")\n",
        "\n",
        "test = test_datagen.flow_from_dataframe(\n",
        "    data_test,\n",
        "    x_col=\"filename\",\n",
        "    y_col=\"label\",\n",
        "    shuffle = False,\n",
        "    target_size=image_size,\n",
        "    batch_size=256,\n",
        "    class_mode=\"categorical\"\n",
        ")\n"
      ],
      "metadata": {
        "colab": {
          "base_uri": "https://localhost:8080/"
        },
        "id": "JzGGmjxHpveZ",
        "outputId": "3ef6b7eb-310e-4ca5-cd6b-72ce98c93f42"
      },
      "execution_count": null,
      "outputs": [
        {
          "output_type": "stream",
          "name": "stdout",
          "text": [
            "Found 232177 validated image filenames belonging to 19 classes.\n",
            "Found 58045 validated image filenames belonging to 19 classes.\n"
          ]
        }
      ]
    },
    {
      "cell_type": "code",
      "source": [
        "from tensorflow.keras.applications import VGG19\n",
        "\n",
        "vgg19_model = VGG19(include_top=False, input_shape=(image_size[0], image_size[1], 3))\n",
        "\n",
        "num_freeze = int(len(vgg19_model.layers) * 0.2)\n",
        "for n in range(num_freeze):\n",
        "    vgg19_model.layers[n].trainable = False\n",
        "\n",
        "model1 = tf.keras.models.Sequential([\n",
        "    vgg19_model,\n",
        "    tf.keras.layers.Flatten(),\n",
        "    tf.keras.layers.Dense(512, activation='relu'),\n",
        "    tf.keras.layers.Dropout(0.5),\n",
        "    tf.keras.layers.Dense(256, activation='relu'),\n",
        "    tf.keras.layers.Dropout(0.5),\n",
        "    tf.keras.layers.Dense(len(data_train['label'].unique()), activation='softmax')\n",
        "])\n",
        "\n",
        "optimizer = tf.keras.optimizers.Adam(learning_rate=0.0001)\n",
        "model1.compile(optimizer=optimizer, loss='categorical_crossentropy', metrics=['accuracy'])\n"
      ],
      "metadata": {
        "id": "2u-xxV4rpzhr"
      },
      "execution_count": null,
      "outputs": []
    },
    {
      "cell_type": "code",
      "source": [
        "early_stopping = EarlyStopping(monitor='val_loss', patience=5, restore_best_weights=True)\n",
        "reduce_lr = ReduceLROnPlateau(monitor='val_loss', factor=0.5, patience=3, min_lr=0.00001)"
      ],
      "metadata": {
        "id": "ynXJ_So6p6Ki"
      },
      "execution_count": null,
      "outputs": []
    },
    {
      "cell_type": "code",
      "source": [
        "history = model1.fit(\n",
        "    train,\n",
        "    epochs=1,\n",
        "    validation_data=test,\n",
        "    callbacks=[early_stopping, reduce_lr],\n",
        "    verbose=1\n",
        ")"
      ],
      "metadata": {
        "colab": {
          "base_uri": "https://localhost:8080/"
        },
        "id": "q4DHCjUCp9D8",
        "outputId": "d7e7ec91-9d44-4d64-904a-e5e09756167c"
      },
      "execution_count": null,
      "outputs": [
        {
          "output_type": "stream",
          "name": "stdout",
          "text": [
            "\u001b[1m907/907\u001b[0m \u001b[32m━━━━━━━━━━━━━━━━━━━━\u001b[0m\u001b[37m\u001b[0m \u001b[1m569s\u001b[0m 615ms/step - accuracy: 0.2918 - loss: 2.4112 - val_accuracy: 0.4012 - val_loss: 1.7986 - learning_rate: 1.0000e-04\n"
          ]
        }
      ]
    },
    {
      "cell_type": "code",
      "source": [
        "predictions = model1.predict(test)"
      ],
      "metadata": {
        "colab": {
          "base_uri": "https://localhost:8080/"
        },
        "id": "1fklXziw9wxY",
        "outputId": "44cc584d-24ec-4a12-cd90-8b2e55485b4d"
      },
      "execution_count": null,
      "outputs": [
        {
          "output_type": "stream",
          "name": "stdout",
          "text": [
            "\u001b[1m  2/227\u001b[0m \u001b[37m━━━━━━━━━━━━━━━━━━━━\u001b[0m \u001b[1m27s\u001b[0m 123ms/step"
          ]
        },
        {
          "output_type": "stream",
          "name": "stderr",
          "text": [
            "/usr/local/lib/python3.10/dist-packages/keras/src/trainers/data_adapters/py_dataset_adapter.py:121: UserWarning: Your `PyDataset` class should call `super().__init__(**kwargs)` in its constructor. `**kwargs` can include `workers`, `use_multiprocessing`, `max_queue_size`. Do not pass these arguments to `fit()`, as they will be ignored.\n",
            "  self._warn_if_super_not_called()\n"
          ]
        },
        {
          "output_type": "stream",
          "name": "stdout",
          "text": [
            "\u001b[1m227/227\u001b[0m \u001b[32m━━━━━━━━━━━━━━━━━━━━\u001b[0m\u001b[37m\u001b[0m \u001b[1m21s\u001b[0m 94ms/step\n"
          ]
        }
      ]
    },
    {
      "cell_type": "code",
      "source": [
        "y_pred = np.argmax(predictions, axis=1)"
      ],
      "metadata": {
        "id": "IqZlCgja91PH"
      },
      "execution_count": null,
      "outputs": []
    },
    {
      "cell_type": "code",
      "source": [
        "from sklearn.metrics import accuracy_score, f1_score, confusion_matrix, roc_auc_score"
      ],
      "metadata": {
        "id": "RH9YoVIu-E5B"
      },
      "execution_count": null,
      "outputs": []
    },
    {
      "cell_type": "code",
      "source": [
        "accuracy_score(test.classes , y_pred)"
      ],
      "metadata": {
        "colab": {
          "base_uri": "https://localhost:8080/"
        },
        "id": "GNialddk96fb",
        "outputId": "9298cdab-d7c1-4868-b6d6-c6c722858a37"
      },
      "execution_count": null,
      "outputs": [
        {
          "output_type": "execute_result",
          "data": {
            "text/plain": [
              "0.4012231889051598"
            ]
          },
          "metadata": {},
          "execution_count": 67
        }
      ]
    },
    {
      "cell_type": "code",
      "source": [
        "f1_score(test.classes , y_pred, average='weighted')"
      ],
      "metadata": {
        "colab": {
          "base_uri": "https://localhost:8080/"
        },
        "id": "qlT79VKF-kbT",
        "outputId": "1e30b572-8b46-4dd0-a970-5161442e8c14"
      },
      "execution_count": null,
      "outputs": [
        {
          "output_type": "execute_result",
          "data": {
            "text/plain": [
              "0.33081011556569534"
            ]
          },
          "metadata": {},
          "execution_count": 68
        }
      ]
    },
    {
      "cell_type": "code",
      "source": [
        "model1.evaluate(test)"
      ],
      "metadata": {
        "colab": {
          "base_uri": "https://localhost:8080/"
        },
        "id": "bGcwjZDzCbzF",
        "outputId": "6910e3ad-869c-4c91-f82a-c409bd8389d6"
      },
      "execution_count": null,
      "outputs": [
        {
          "output_type": "stream",
          "name": "stdout",
          "text": [
            "\u001b[1m227/227\u001b[0m \u001b[32m━━━━━━━━━━━━━━━━━━━━\u001b[0m\u001b[37m\u001b[0m \u001b[1m29s\u001b[0m 127ms/step - accuracy: 0.4012 - loss: 1.7995\n"
          ]
        },
        {
          "output_type": "execute_result",
          "data": {
            "text/plain": [
              "[1.7986233234405518, 0.40122318267822266]"
            ]
          },
          "metadata": {},
          "execution_count": 59
        }
      ]
    },
    {
      "cell_type": "code",
      "source": [
        "test.class_indices"
      ],
      "metadata": {
        "colab": {
          "base_uri": "https://localhost:8080/"
        },
        "id": "AwFWMp8dEHpP",
        "outputId": "bf0d6ea0-5d4f-4208-da98-4d7e3a240a84"
      },
      "execution_count": null,
      "outputs": [
        {
          "output_type": "execute_result",
          "data": {
            "text/plain": [
              "{'ABE': 0,\n",
              " 'BAS': 1,\n",
              " 'BLA': 2,\n",
              " 'EBO': 3,\n",
              " 'EOS': 4,\n",
              " 'FGC': 5,\n",
              " 'HAC': 6,\n",
              " 'KSC': 7,\n",
              " 'LYI': 8,\n",
              " 'LYT': 9,\n",
              " 'MMZ': 10,\n",
              " 'MON': 11,\n",
              " 'MYB': 12,\n",
              " 'NGB': 13,\n",
              " 'NGS': 14,\n",
              " 'OTH': 15,\n",
              " 'PEB': 16,\n",
              " 'PLM': 17,\n",
              " 'PMO': 18}"
            ]
          },
          "metadata": {},
          "execution_count": 71
        }
      ]
    },
    {
      "cell_type": "code",
      "source": [
        "from sklearn.metrics import confusion_matrix, ConfusionMatrixDisplay\n",
        "\n",
        "cm = confusion_matrix(test.classes, y_pred)\n",
        "disp = ConfusionMatrixDisplay(confusion_matrix=cm, display_labels=test.class_indices.keys())\n",
        "fig, ax = plt.subplots(figsize=(15,15))\n",
        "disp.plot(ax=ax, cmap='Oranges');"
      ],
      "metadata": {
        "colab": {
          "base_uri": "https://localhost:8080/",
          "height": 1000
        },
        "id": "M6XtTDqpDibE",
        "outputId": "a73ea22a-02c8-4557-dc13-58775e9e373d"
      },
      "execution_count": null,
      "outputs": [
        {
          "output_type": "display_data",
          "data": {
            "text/plain": [
              "<Figure size 1500x1500 with 2 Axes>"
            ],
            "image/png": "[encoded data removed]"
          },
          "metadata": {}
        }
      ]
    }
  ]
}